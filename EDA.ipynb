{
 "cells": [
  {
   "cell_type": "markdown",
   "metadata": {},
   "source": [
    "# Imports"
   ]
  },
  {
   "cell_type": "code",
   "execution_count": 55,
   "metadata": {},
   "outputs": [],
   "source": [
    "import pandas as pd\n",
    "import numpy as np\n",
    "import os\n",
    "\n",
    "# Graphing\n",
    "import matplotlib.pyplot as plt\n",
    "import seaborn as sns\n",
    "\n",
    "# IP Address\n",
    "import ipaddress as ip\n",
    "\n",
    "# Encoding\n",
    "from sklearn.preprocessing import LabelBinarizer\n",
    "from sklearn.preprocessing import MultiLabelBinarizer\n",
    "\n",
    "# Machine Learning\n",
    "from sklearn.model_selection import train_test_split\n",
    "\n",
    "# NLP\n",
    "import texthero as hero\n",
    "from sklearn.feature_extraction.text import CountVectorizer, TfidfVectorizer"
   ]
  },
  {
   "cell_type": "code",
   "execution_count": 56,
   "metadata": {},
   "outputs": [],
   "source": [
    "geoip2_df = pd.read_csv(\"Data/geoip2-ipv4.csv\")"
   ]
  },
  {
   "cell_type": "code",
   "execution_count": 57,
   "metadata": {},
   "outputs": [],
   "source": [
    "ipv4_df = pd.read_csv(\"Data/ipv4.csv\")"
   ]
  },
  {
   "cell_type": "code",
   "execution_count": 58,
   "metadata": {},
   "outputs": [
    {
     "name": "stderr",
     "output_type": "stream",
     "text": [
      "/Users/zakijefferson/opt/anaconda3/lib/python3.7/site-packages/IPython/core/interactiveshell.py:3147: DtypeWarning: Columns (0,1) have mixed types.Specify dtype option on import or set low_memory=False.\n",
      "  interactivity=interactivity, compiler=compiler, result=result)\n"
     ]
    }
   ],
   "source": [
    "ipv6_proxy_df = pd.read_csv(\"Data/IP2PROXY-IPV6.CSV\")"
   ]
  },
  {
   "cell_type": "code",
   "execution_count": 5,
   "metadata": {},
   "outputs": [],
   "source": [
    "ipv4_proxy_df = pd.read_csv(\"Data/IP2PROXY-IPV4.CSV\")"
   ]
  },
  {
   "cell_type": "code",
   "execution_count": 6,
   "metadata": {},
   "outputs": [
    {
     "data": {
      "text/plain": [
       "(1511846, 14)"
      ]
     },
     "execution_count": 6,
     "metadata": {},
     "output_type": "execute_result"
    }
   ],
   "source": [
    "ipv4_proxy_df.shape"
   ]
  },
  {
   "cell_type": "code",
   "execution_count": 7,
   "metadata": {},
   "outputs": [
    {
     "data": {
      "text/html": [
       "<div>\n",
       "<style scoped>\n",
       "    .dataframe tbody tr th:only-of-type {\n",
       "        vertical-align: middle;\n",
       "    }\n",
       "\n",
       "    .dataframe tbody tr th {\n",
       "        vertical-align: top;\n",
       "    }\n",
       "\n",
       "    .dataframe thead th {\n",
       "        text-align: right;\n",
       "    }\n",
       "</style>\n",
       "<table border=\"1\" class=\"dataframe\">\n",
       "  <thead>\n",
       "    <tr style=\"text-align: right;\">\n",
       "      <th></th>\n",
       "      <th>16778241</th>\n",
       "      <th>16778241.1</th>\n",
       "      <th>PUB</th>\n",
       "      <th>AU</th>\n",
       "      <th>Australia</th>\n",
       "      <th>Victoria</th>\n",
       "      <th>Melbourne</th>\n",
       "      <th>WirefreeBroadband Pty Ltd</th>\n",
       "      <th>wirefreebroadband.com.au</th>\n",
       "      <th>ISP</th>\n",
       "      <th>38803</th>\n",
       "      <th>WirefreeBroadband Pty Ltd.1</th>\n",
       "      <th>30</th>\n",
       "      <th>-</th>\n",
       "    </tr>\n",
       "  </thead>\n",
       "  <tbody>\n",
       "    <tr>\n",
       "      <th>0</th>\n",
       "      <td>16778497</td>\n",
       "      <td>16778497</td>\n",
       "      <td>PUB</td>\n",
       "      <td>AU</td>\n",
       "      <td>Australia</td>\n",
       "      <td>Victoria</td>\n",
       "      <td>Melbourne</td>\n",
       "      <td>WirefreeBroadband Pty Ltd</td>\n",
       "      <td>wirefreebroadband.com.au</td>\n",
       "      <td>ISP</td>\n",
       "      <td>38803</td>\n",
       "      <td>WirefreeBroadband Pty Ltd</td>\n",
       "      <td>30</td>\n",
       "      <td>-</td>\n",
       "    </tr>\n",
       "    <tr>\n",
       "      <th>1</th>\n",
       "      <td>16783399</td>\n",
       "      <td>16783399</td>\n",
       "      <td>PUB</td>\n",
       "      <td>JP</td>\n",
       "      <td>Japan</td>\n",
       "      <td>Tokyo</td>\n",
       "      <td>Tokyo</td>\n",
       "      <td>I2TS Inc.</td>\n",
       "      <td>i2ts.com</td>\n",
       "      <td>DCH</td>\n",
       "      <td>-</td>\n",
       "      <td>-</td>\n",
       "      <td>30</td>\n",
       "      <td>-</td>\n",
       "    </tr>\n",
       "    <tr>\n",
       "      <th>2</th>\n",
       "      <td>16783571</td>\n",
       "      <td>16783571</td>\n",
       "      <td>PUB</td>\n",
       "      <td>JP</td>\n",
       "      <td>Japan</td>\n",
       "      <td>Tokyo</td>\n",
       "      <td>Tokyo</td>\n",
       "      <td>I2TS Inc.</td>\n",
       "      <td>i2ts.com</td>\n",
       "      <td>DCH</td>\n",
       "      <td>-</td>\n",
       "      <td>-</td>\n",
       "      <td>30</td>\n",
       "      <td>-</td>\n",
       "    </tr>\n",
       "    <tr>\n",
       "      <th>3</th>\n",
       "      <td>16804078</td>\n",
       "      <td>16804078</td>\n",
       "      <td>PUB</td>\n",
       "      <td>JP</td>\n",
       "      <td>Japan</td>\n",
       "      <td>Shimane</td>\n",
       "      <td>Izumo</td>\n",
       "      <td>Energia Communications Inc.</td>\n",
       "      <td>enecom.co.jp</td>\n",
       "      <td>ISP</td>\n",
       "      <td>18144</td>\n",
       "      <td>Energia Communications Inc.</td>\n",
       "      <td>30</td>\n",
       "      <td>-</td>\n",
       "    </tr>\n",
       "    <tr>\n",
       "      <th>4</th>\n",
       "      <td>16809988</td>\n",
       "      <td>16809988</td>\n",
       "      <td>PUB</td>\n",
       "      <td>TH</td>\n",
       "      <td>Thailand</td>\n",
       "      <td>Chiang Rai</td>\n",
       "      <td>Pa Daet</td>\n",
       "      <td>TOT Public Company Limited</td>\n",
       "      <td>tot.co.th</td>\n",
       "      <td>ISP/MOB</td>\n",
       "      <td>23969</td>\n",
       "      <td>TOT Public Company Limited</td>\n",
       "      <td>30</td>\n",
       "      <td>-</td>\n",
       "    </tr>\n",
       "  </tbody>\n",
       "</table>\n",
       "</div>"
      ],
      "text/plain": [
       "   16778241  16778241.1  PUB  AU  Australia    Victoria  Melbourne  \\\n",
       "0  16778497    16778497  PUB  AU  Australia    Victoria  Melbourne   \n",
       "1  16783399    16783399  PUB  JP      Japan       Tokyo      Tokyo   \n",
       "2  16783571    16783571  PUB  JP      Japan       Tokyo      Tokyo   \n",
       "3  16804078    16804078  PUB  JP      Japan     Shimane      Izumo   \n",
       "4  16809988    16809988  PUB  TH   Thailand  Chiang Rai    Pa Daet   \n",
       "\n",
       "     WirefreeBroadband Pty Ltd  wirefreebroadband.com.au      ISP  38803  \\\n",
       "0    WirefreeBroadband Pty Ltd  wirefreebroadband.com.au      ISP  38803   \n",
       "1                    I2TS Inc.                  i2ts.com      DCH      -   \n",
       "2                    I2TS Inc.                  i2ts.com      DCH      -   \n",
       "3  Energia Communications Inc.              enecom.co.jp      ISP  18144   \n",
       "4   TOT Public Company Limited                 tot.co.th  ISP/MOB  23969   \n",
       "\n",
       "   WirefreeBroadband Pty Ltd.1  30  -  \n",
       "0    WirefreeBroadband Pty Ltd  30  -  \n",
       "1                            -  30  -  \n",
       "2                            -  30  -  \n",
       "3  Energia Communications Inc.  30  -  \n",
       "4   TOT Public Company Limited  30  -  "
      ]
     },
     "execution_count": 7,
     "metadata": {},
     "output_type": "execute_result"
    }
   ],
   "source": [
    "ipv4_proxy_df.head()"
   ]
  },
  {
   "cell_type": "code",
   "execution_count": 8,
   "metadata": {},
   "outputs": [
    {
     "data": {
      "text/plain": [
       "IPv4Address('223.255.229.8')"
      ]
     },
     "execution_count": 8,
     "metadata": {},
     "output_type": "execute_result"
    }
   ],
   "source": [
    "ip.IPv4Address(3758089480)"
   ]
  },
  {
   "cell_type": "code",
   "execution_count": 9,
   "metadata": {},
   "outputs": [
    {
     "data": {
      "text/plain": [
       "(1508772, 14)"
      ]
     },
     "execution_count": 9,
     "metadata": {},
     "output_type": "execute_result"
    }
   ],
   "source": [
    "ipv6_proxy_df.shape"
   ]
  },
  {
   "cell_type": "code",
   "execution_count": 10,
   "metadata": {},
   "outputs": [
    {
     "data": {
      "text/html": [
       "<div>\n",
       "<style scoped>\n",
       "    .dataframe tbody tr th:only-of-type {\n",
       "        vertical-align: middle;\n",
       "    }\n",
       "\n",
       "    .dataframe tbody tr th {\n",
       "        vertical-align: top;\n",
       "    }\n",
       "\n",
       "    .dataframe thead th {\n",
       "        text-align: right;\n",
       "    }\n",
       "</style>\n",
       "<table border=\"1\" class=\"dataframe\">\n",
       "  <thead>\n",
       "    <tr style=\"text-align: right;\">\n",
       "      <th></th>\n",
       "      <th>281470698521601</th>\n",
       "      <th>281470698521601.1</th>\n",
       "      <th>PUB</th>\n",
       "      <th>AU</th>\n",
       "      <th>Australia</th>\n",
       "      <th>Victoria</th>\n",
       "      <th>Melbourne</th>\n",
       "      <th>WirefreeBroadband Pty Ltd</th>\n",
       "      <th>wirefreebroadband.com.au</th>\n",
       "      <th>ISP</th>\n",
       "      <th>38803</th>\n",
       "      <th>WirefreeBroadband Pty Ltd.1</th>\n",
       "      <th>30</th>\n",
       "      <th>-</th>\n",
       "    </tr>\n",
       "  </thead>\n",
       "  <tbody>\n",
       "    <tr>\n",
       "      <th>0</th>\n",
       "      <td>281470698521857</td>\n",
       "      <td>281470698521857</td>\n",
       "      <td>PUB</td>\n",
       "      <td>AU</td>\n",
       "      <td>Australia</td>\n",
       "      <td>Victoria</td>\n",
       "      <td>Melbourne</td>\n",
       "      <td>WirefreeBroadband Pty Ltd</td>\n",
       "      <td>wirefreebroadband.com.au</td>\n",
       "      <td>ISP</td>\n",
       "      <td>38803</td>\n",
       "      <td>WirefreeBroadband Pty Ltd</td>\n",
       "      <td>30</td>\n",
       "      <td>-</td>\n",
       "    </tr>\n",
       "    <tr>\n",
       "      <th>1</th>\n",
       "      <td>281470698526759</td>\n",
       "      <td>281470698526759</td>\n",
       "      <td>PUB</td>\n",
       "      <td>JP</td>\n",
       "      <td>Japan</td>\n",
       "      <td>Tokyo</td>\n",
       "      <td>Tokyo</td>\n",
       "      <td>I2TS Inc.</td>\n",
       "      <td>i2ts.com</td>\n",
       "      <td>DCH</td>\n",
       "      <td>-</td>\n",
       "      <td>-</td>\n",
       "      <td>30</td>\n",
       "      <td>-</td>\n",
       "    </tr>\n",
       "    <tr>\n",
       "      <th>2</th>\n",
       "      <td>281470698526931</td>\n",
       "      <td>281470698526931</td>\n",
       "      <td>PUB</td>\n",
       "      <td>JP</td>\n",
       "      <td>Japan</td>\n",
       "      <td>Tokyo</td>\n",
       "      <td>Tokyo</td>\n",
       "      <td>I2TS Inc.</td>\n",
       "      <td>i2ts.com</td>\n",
       "      <td>DCH</td>\n",
       "      <td>-</td>\n",
       "      <td>-</td>\n",
       "      <td>30</td>\n",
       "      <td>-</td>\n",
       "    </tr>\n",
       "    <tr>\n",
       "      <th>3</th>\n",
       "      <td>281470698547438</td>\n",
       "      <td>281470698547438</td>\n",
       "      <td>PUB</td>\n",
       "      <td>JP</td>\n",
       "      <td>Japan</td>\n",
       "      <td>Shimane</td>\n",
       "      <td>Izumo</td>\n",
       "      <td>Energia Communications Inc.</td>\n",
       "      <td>enecom.co.jp</td>\n",
       "      <td>ISP</td>\n",
       "      <td>18144</td>\n",
       "      <td>Energia Communications Inc.</td>\n",
       "      <td>30</td>\n",
       "      <td>-</td>\n",
       "    </tr>\n",
       "    <tr>\n",
       "      <th>4</th>\n",
       "      <td>281470698553348</td>\n",
       "      <td>281470698553348</td>\n",
       "      <td>PUB</td>\n",
       "      <td>TH</td>\n",
       "      <td>Thailand</td>\n",
       "      <td>Chiang Rai</td>\n",
       "      <td>Pa Daet</td>\n",
       "      <td>TOT Public Company Limited</td>\n",
       "      <td>tot.co.th</td>\n",
       "      <td>ISP/MOB</td>\n",
       "      <td>23969</td>\n",
       "      <td>TOT Public Company Limited</td>\n",
       "      <td>30</td>\n",
       "      <td>-</td>\n",
       "    </tr>\n",
       "  </tbody>\n",
       "</table>\n",
       "</div>"
      ],
      "text/plain": [
       "   281470698521601 281470698521601.1  PUB  AU  Australia    Victoria  \\\n",
       "0  281470698521857   281470698521857  PUB  AU  Australia    Victoria   \n",
       "1  281470698526759   281470698526759  PUB  JP      Japan       Tokyo   \n",
       "2  281470698526931   281470698526931  PUB  JP      Japan       Tokyo   \n",
       "3  281470698547438   281470698547438  PUB  JP      Japan     Shimane   \n",
       "4  281470698553348   281470698553348  PUB  TH   Thailand  Chiang Rai   \n",
       "\n",
       "   Melbourne    WirefreeBroadband Pty Ltd  wirefreebroadband.com.au      ISP  \\\n",
       "0  Melbourne    WirefreeBroadband Pty Ltd  wirefreebroadband.com.au      ISP   \n",
       "1      Tokyo                    I2TS Inc.                  i2ts.com      DCH   \n",
       "2      Tokyo                    I2TS Inc.                  i2ts.com      DCH   \n",
       "3      Izumo  Energia Communications Inc.              enecom.co.jp      ISP   \n",
       "4    Pa Daet   TOT Public Company Limited                 tot.co.th  ISP/MOB   \n",
       "\n",
       "   38803  WirefreeBroadband Pty Ltd.1  30  -  \n",
       "0  38803    WirefreeBroadband Pty Ltd  30  -  \n",
       "1      -                            -  30  -  \n",
       "2      -                            -  30  -  \n",
       "3  18144  Energia Communications Inc.  30  -  \n",
       "4  23969   TOT Public Company Limited  30  -  "
      ]
     },
     "execution_count": 10,
     "metadata": {},
     "output_type": "execute_result"
    }
   ],
   "source": [
    "ipv6_proxy_df.head()"
   ]
  },
  {
   "cell_type": "code",
   "execution_count": 11,
   "metadata": {},
   "outputs": [
    {
     "data": {
      "text/plain": [
       "IPv6Interface('::ffff:dfff:f7cd/128')"
      ]
     },
     "execution_count": 11,
     "metadata": {},
     "output_type": "execute_result"
    }
   ],
   "source": [
    "ip.IPv6Interface(281474439837645)"
   ]
  },
  {
   "cell_type": "code",
   "execution_count": 12,
   "metadata": {},
   "outputs": [
    {
     "data": {
      "text/html": [
       "<div>\n",
       "<style scoped>\n",
       "    .dataframe tbody tr th:only-of-type {\n",
       "        vertical-align: middle;\n",
       "    }\n",
       "\n",
       "    .dataframe tbody tr th {\n",
       "        vertical-align: top;\n",
       "    }\n",
       "\n",
       "    .dataframe thead th {\n",
       "        text-align: right;\n",
       "    }\n",
       "</style>\n",
       "<table border=\"1\" class=\"dataframe\">\n",
       "  <thead>\n",
       "    <tr style=\"text-align: right;\">\n",
       "      <th></th>\n",
       "      <th>\u0005Network</th>\n",
       "      <th>geoname_id</th>\n",
       "      <th>continent_code</th>\n",
       "      <th>continent_name</th>\n",
       "      <th>country_iso_code</th>\n",
       "      <th>country_name</th>\n",
       "      <th>is_anonymous_proxy</th>\n",
       "      <th>is_satellite_provider</th>\n",
       "    </tr>\n",
       "  </thead>\n",
       "  <tbody>\n",
       "    <tr>\n",
       "      <th>0</th>\n",
       "      <td>41.74.160.0/20</td>\n",
       "      <td>49518.0</td>\n",
       "      <td>AF</td>\n",
       "      <td>Africa</td>\n",
       "      <td>RW</td>\n",
       "      <td>Rwanda</td>\n",
       "      <td>False</td>\n",
       "      <td>False</td>\n",
       "    </tr>\n",
       "    <tr>\n",
       "      <th>1</th>\n",
       "      <td>41.77.160.0/22</td>\n",
       "      <td>49518.0</td>\n",
       "      <td>AF</td>\n",
       "      <td>Africa</td>\n",
       "      <td>RW</td>\n",
       "      <td>Rwanda</td>\n",
       "      <td>False</td>\n",
       "      <td>False</td>\n",
       "    </tr>\n",
       "    <tr>\n",
       "      <th>2</th>\n",
       "      <td>41.138.80.0/21</td>\n",
       "      <td>49518.0</td>\n",
       "      <td>AF</td>\n",
       "      <td>Africa</td>\n",
       "      <td>RW</td>\n",
       "      <td>Rwanda</td>\n",
       "      <td>False</td>\n",
       "      <td>False</td>\n",
       "    </tr>\n",
       "    <tr>\n",
       "      <th>3</th>\n",
       "      <td>41.186.0.0/16</td>\n",
       "      <td>49518.0</td>\n",
       "      <td>AF</td>\n",
       "      <td>Africa</td>\n",
       "      <td>RW</td>\n",
       "      <td>Rwanda</td>\n",
       "      <td>False</td>\n",
       "      <td>False</td>\n",
       "    </tr>\n",
       "    <tr>\n",
       "      <th>4</th>\n",
       "      <td>41.197.0.0/16</td>\n",
       "      <td>49518.0</td>\n",
       "      <td>AF</td>\n",
       "      <td>Africa</td>\n",
       "      <td>RW</td>\n",
       "      <td>Rwanda</td>\n",
       "      <td>False</td>\n",
       "      <td>False</td>\n",
       "    </tr>\n",
       "  </tbody>\n",
       "</table>\n",
       "</div>"
      ],
      "text/plain": [
       "         \u0005Network  geoname_id continent_code continent_name country_iso_code  \\\n",
       "0  41.74.160.0/20     49518.0             AF         Africa               RW   \n",
       "1  41.77.160.0/22     49518.0             AF         Africa               RW   \n",
       "2  41.138.80.0/21     49518.0             AF         Africa               RW   \n",
       "3   41.186.0.0/16     49518.0             AF         Africa               RW   \n",
       "4   41.197.0.0/16     49518.0             AF         Africa               RW   \n",
       "\n",
       "  country_name  is_anonymous_proxy  is_satellite_provider  \n",
       "0       Rwanda               False                  False  \n",
       "1       Rwanda               False                  False  \n",
       "2       Rwanda               False                  False  \n",
       "3       Rwanda               False                  False  \n",
       "4       Rwanda               False                  False  "
      ]
     },
     "execution_count": 12,
     "metadata": {},
     "output_type": "execute_result"
    }
   ],
   "source": [
    "geoip2_df.head()"
   ]
  },
  {
   "cell_type": "markdown",
   "metadata": {},
   "source": [
    "# EDA"
   ]
  },
  {
   "cell_type": "code",
   "execution_count": 13,
   "metadata": {},
   "outputs": [
    {
     "name": "stdout",
     "output_type": "stream",
     "text": [
      "<class 'pandas.core.frame.DataFrame'>\n",
      "RangeIndex: 172754 entries, 0 to 172753\n",
      "Data columns (total 2 columns):\n",
      " #   Column              Non-Null Count   Dtype \n",
      "---  ------              --------------   ----- \n",
      " 0   IP_Networks         172754 non-null  object\n",
      " 1   is_anonymous_proxy  172754 non-null  bool  \n",
      "dtypes: bool(1), object(1)\n",
      "memory usage: 1.5+ MB\n"
     ]
    }
   ],
   "source": [
    "# Looking at column informaion/data types\n",
    "ipv4_df.info()"
   ]
  },
  {
   "cell_type": "code",
   "execution_count": 14,
   "metadata": {},
   "outputs": [
    {
     "data": {
      "text/html": [
       "<div>\n",
       "<style scoped>\n",
       "    .dataframe tbody tr th:only-of-type {\n",
       "        vertical-align: middle;\n",
       "    }\n",
       "\n",
       "    .dataframe tbody tr th {\n",
       "        vertical-align: top;\n",
       "    }\n",
       "\n",
       "    .dataframe thead th {\n",
       "        text-align: right;\n",
       "    }\n",
       "</style>\n",
       "<table border=\"1\" class=\"dataframe\">\n",
       "  <thead>\n",
       "    <tr style=\"text-align: right;\">\n",
       "      <th></th>\n",
       "      <th>count</th>\n",
       "      <th>unique</th>\n",
       "      <th>top</th>\n",
       "      <th>freq</th>\n",
       "    </tr>\n",
       "  </thead>\n",
       "  <tbody>\n",
       "    <tr>\n",
       "      <th>IP_Networks</th>\n",
       "      <td>172754</td>\n",
       "      <td>172754</td>\n",
       "      <td>206.49.103.0/24</td>\n",
       "      <td>1</td>\n",
       "    </tr>\n",
       "    <tr>\n",
       "      <th>is_anonymous_proxy</th>\n",
       "      <td>172754</td>\n",
       "      <td>2</td>\n",
       "      <td>False</td>\n",
       "      <td>172497</td>\n",
       "    </tr>\n",
       "  </tbody>\n",
       "</table>\n",
       "</div>"
      ],
      "text/plain": [
       "                     count  unique              top    freq\n",
       "IP_Networks         172754  172754  206.49.103.0/24       1\n",
       "is_anonymous_proxy  172754       2            False  172497"
      ]
     },
     "execution_count": 14,
     "metadata": {},
     "output_type": "execute_result"
    }
   ],
   "source": [
    "ipv4_df.describe().T"
   ]
  },
  {
   "cell_type": "code",
   "execution_count": 15,
   "metadata": {},
   "outputs": [
    {
     "data": {
      "text/plain": [
       "0         False\n",
       "1         False\n",
       "2         False\n",
       "3         False\n",
       "4         False\n",
       "          ...  \n",
       "172749    False\n",
       "172750    False\n",
       "172751    False\n",
       "172752    False\n",
       "172753    False\n",
       "Name: is_anonymous_proxy, Length: 172754, dtype: bool"
      ]
     },
     "execution_count": 15,
     "metadata": {},
     "output_type": "execute_result"
    }
   ],
   "source": [
    "ipv4_df[\"is_anonymous_proxy\"] == \"False\""
   ]
  },
  {
   "cell_type": "markdown",
   "metadata": {},
   "source": [
    "# Univariate Anlysis"
   ]
  },
  {
   "cell_type": "code",
   "execution_count": 16,
   "metadata": {},
   "outputs": [
    {
     "data": {
      "text/plain": [
       "array([False,  True])"
      ]
     },
     "execution_count": 16,
     "metadata": {},
     "output_type": "execute_result"
    }
   ],
   "source": [
    "# Checking how many Ture and False values there are\n",
    "ipv4_df[\"is_anonymous_proxy\"].unique()"
   ]
  },
  {
   "cell_type": "code",
   "execution_count": 17,
   "metadata": {},
   "outputs": [
    {
     "data": {
      "text/plain": [
       "False    0.998512\n",
       "True     0.001488\n",
       "Name: is_anonymous_proxy, dtype: float64"
      ]
     },
     "execution_count": 17,
     "metadata": {},
     "output_type": "execute_result"
    }
   ],
   "source": [
    "ipv4_df[\"is_anonymous_proxy\"].value_counts(normalize=True) # There aren't that many using a proxy"
   ]
  },
  {
   "cell_type": "code",
   "execution_count": 18,
   "metadata": {},
   "outputs": [
    {
     "data": {
      "text/plain": [
       "False    172497\n",
       "True        257\n",
       "Name: is_anonymous_proxy, dtype: int64"
      ]
     },
     "execution_count": 18,
     "metadata": {},
     "output_type": "execute_result"
    }
   ],
   "source": [
    "ipv4_df[\"is_anonymous_proxy\"].value_counts()"
   ]
  },
  {
   "cell_type": "markdown",
   "metadata": {},
   "source": [
    "# Cleaning Data"
   ]
  },
  {
   "cell_type": "markdown",
   "metadata": {},
   "source": [
    "1. Remove and rename columns in ipv4 proxy"
   ]
  },
  {
   "cell_type": "code",
   "execution_count": 19,
   "metadata": {},
   "outputs": [
    {
     "data": {
      "text/plain": [
       "Index(['16778241', '16778241.1', 'PUB', 'AU', 'Australia', 'Victoria',\n",
       "       'Melbourne', 'WirefreeBroadband Pty Ltd', 'wirefreebroadband.com.au',\n",
       "       'ISP', '38803', 'WirefreeBroadband Pty Ltd.1', '30', '-'],\n",
       "      dtype='object')"
      ]
     },
     "execution_count": 19,
     "metadata": {},
     "output_type": "execute_result"
    }
   ],
   "source": [
    "ipv4_proxy_df.columns"
   ]
  },
  {
   "cell_type": "code",
   "execution_count": 20,
   "metadata": {},
   "outputs": [],
   "source": [
    "# Renaming the two columns that will be kept\n",
    "ipv4_proxy_df.rename(columns={\"16778241\": \"IP_Networks\", \"PUB\": \"is_anonymous_proxy\"}, inplace=True)"
   ]
  },
  {
   "cell_type": "code",
   "execution_count": 21,
   "metadata": {},
   "outputs": [],
   "source": [
    "# Removing all columns except IP_Networks and is_anonymous_proxy\n",
    "ipv4_proxy_df = ipv4_proxy_df[[\"IP_Networks\", \"is_anonymous_proxy\"]]"
   ]
  },
  {
   "cell_type": "markdown",
   "metadata": {},
   "source": [
    "2. Change data types"
   ]
  },
  {
   "cell_type": "code",
   "execution_count": 22,
   "metadata": {},
   "outputs": [],
   "source": [
    "# Changing data type on ipv4_df in the is_anonymous_proxy to a string\n",
    "ipv4_df[\"is_anonymous_proxy\"] = ipv4_df[\"is_anonymous_proxy\"].astype(str)"
   ]
  },
  {
   "cell_type": "code",
   "execution_count": 23,
   "metadata": {},
   "outputs": [],
   "source": [
    "# Changing data type to a string\n",
    "ipv4_proxy_df[\"is_anonymous_proxy\"] = ipv4_proxy_df[\"is_anonymous_proxy\"].astype(str)"
   ]
  },
  {
   "cell_type": "markdown",
   "metadata": {},
   "source": [
    "3. Change 2nd columns values in ipv4 proxy and convert first column to IP address"
   ]
  },
  {
   "cell_type": "code",
   "execution_count": 24,
   "metadata": {},
   "outputs": [],
   "source": [
    "# Converting ipv4 proxy IP_Networks columns in IP addresses\n",
    "ipv4_proxy_df[\"IP_Networks\"] = ipv4_proxy_df[\"IP_Networks\"].apply(lambda x: ip.IPv4Address(x).exploded)"
   ]
  },
  {
   "cell_type": "code",
   "execution_count": 25,
   "metadata": {},
   "outputs": [],
   "source": [
    "# Changing the values of the is_anonymous_proxy to True\n",
    "ipv4_proxy_df[\"is_anonymous_proxy\"] = ipv4_proxy_df[\"is_anonymous_proxy\"].replace(to_replace=\"PUB\", value=\"True\")"
   ]
  },
  {
   "cell_type": "code",
   "execution_count": 26,
   "metadata": {},
   "outputs": [
    {
     "data": {
      "text/plain": [
       "array(['True'], dtype=object)"
      ]
     },
     "execution_count": 26,
     "metadata": {},
     "output_type": "execute_result"
    }
   ],
   "source": [
    "ipv4_proxy_df[\"is_anonymous_proxy\"].unique()"
   ]
  },
  {
   "cell_type": "markdown",
   "metadata": {},
   "source": [
    "4. Change IP_Networks into IP Addresses"
   ]
  },
  {
   "cell_type": "code",
   "execution_count": 27,
   "metadata": {},
   "outputs": [],
   "source": [
    "# Using a lambda function to get IP addresses from the specified column\n",
    "ipv4_df[\"IP_Networks\"] = ipv4_df[\"IP_Networks\"].apply(lambda x: ip.ip_interface(x).ip.exploded)"
   ]
  },
  {
   "cell_type": "code",
   "execution_count": 28,
   "metadata": {},
   "outputs": [
    {
     "data": {
      "text/html": [
       "<div>\n",
       "<style scoped>\n",
       "    .dataframe tbody tr th:only-of-type {\n",
       "        vertical-align: middle;\n",
       "    }\n",
       "\n",
       "    .dataframe tbody tr th {\n",
       "        vertical-align: top;\n",
       "    }\n",
       "\n",
       "    .dataframe thead th {\n",
       "        text-align: right;\n",
       "    }\n",
       "</style>\n",
       "<table border=\"1\" class=\"dataframe\">\n",
       "  <thead>\n",
       "    <tr style=\"text-align: right;\">\n",
       "      <th></th>\n",
       "      <th>IP_Networks</th>\n",
       "      <th>is_anonymous_proxy</th>\n",
       "    </tr>\n",
       "  </thead>\n",
       "  <tbody>\n",
       "    <tr>\n",
       "      <th>0</th>\n",
       "      <td>41.74.160.0</td>\n",
       "      <td>False</td>\n",
       "    </tr>\n",
       "    <tr>\n",
       "      <th>1</th>\n",
       "      <td>41.77.160.0</td>\n",
       "      <td>False</td>\n",
       "    </tr>\n",
       "    <tr>\n",
       "      <th>2</th>\n",
       "      <td>41.138.80.0</td>\n",
       "      <td>False</td>\n",
       "    </tr>\n",
       "    <tr>\n",
       "      <th>3</th>\n",
       "      <td>41.186.0.0</td>\n",
       "      <td>False</td>\n",
       "    </tr>\n",
       "    <tr>\n",
       "      <th>4</th>\n",
       "      <td>41.197.0.0</td>\n",
       "      <td>False</td>\n",
       "    </tr>\n",
       "  </tbody>\n",
       "</table>\n",
       "</div>"
      ],
      "text/plain": [
       "   IP_Networks is_anonymous_proxy\n",
       "0  41.74.160.0              False\n",
       "1  41.77.160.0              False\n",
       "2  41.138.80.0              False\n",
       "3   41.186.0.0              False\n",
       "4   41.197.0.0              False"
      ]
     },
     "execution_count": 28,
     "metadata": {},
     "output_type": "execute_result"
    }
   ],
   "source": [
    "ipv4_df.head()"
   ]
  },
  {
   "cell_type": "markdown",
   "metadata": {},
   "source": [
    "6. Combine ipv4 and ipv4 proxy datasets"
   ]
  },
  {
   "cell_type": "code",
   "execution_count": 29,
   "metadata": {},
   "outputs": [],
   "source": [
    "# Perfoming a concat\n",
    "ipv4_new_df = pd.concat(objs=[ipv4_df, ipv4_proxy_df], axis=0, ignore_index=True)"
   ]
  },
  {
   "cell_type": "code",
   "execution_count": 30,
   "metadata": {},
   "outputs": [
    {
     "data": {
      "text/html": [
       "<div>\n",
       "<style scoped>\n",
       "    .dataframe tbody tr th:only-of-type {\n",
       "        vertical-align: middle;\n",
       "    }\n",
       "\n",
       "    .dataframe tbody tr th {\n",
       "        vertical-align: top;\n",
       "    }\n",
       "\n",
       "    .dataframe thead th {\n",
       "        text-align: right;\n",
       "    }\n",
       "</style>\n",
       "<table border=\"1\" class=\"dataframe\">\n",
       "  <thead>\n",
       "    <tr style=\"text-align: right;\">\n",
       "      <th></th>\n",
       "      <th>IP_Networks</th>\n",
       "      <th>is_anonymous_proxy</th>\n",
       "    </tr>\n",
       "  </thead>\n",
       "  <tbody>\n",
       "    <tr>\n",
       "      <th>0</th>\n",
       "      <td>41.74.160.0</td>\n",
       "      <td>False</td>\n",
       "    </tr>\n",
       "    <tr>\n",
       "      <th>1</th>\n",
       "      <td>41.77.160.0</td>\n",
       "      <td>False</td>\n",
       "    </tr>\n",
       "    <tr>\n",
       "      <th>2</th>\n",
       "      <td>41.138.80.0</td>\n",
       "      <td>False</td>\n",
       "    </tr>\n",
       "    <tr>\n",
       "      <th>3</th>\n",
       "      <td>41.186.0.0</td>\n",
       "      <td>False</td>\n",
       "    </tr>\n",
       "    <tr>\n",
       "      <th>4</th>\n",
       "      <td>41.197.0.0</td>\n",
       "      <td>False</td>\n",
       "    </tr>\n",
       "  </tbody>\n",
       "</table>\n",
       "</div>"
      ],
      "text/plain": [
       "   IP_Networks is_anonymous_proxy\n",
       "0  41.74.160.0              False\n",
       "1  41.77.160.0              False\n",
       "2  41.138.80.0              False\n",
       "3   41.186.0.0              False\n",
       "4   41.197.0.0              False"
      ]
     },
     "execution_count": 30,
     "metadata": {},
     "output_type": "execute_result"
    }
   ],
   "source": [
    "ipv4_new_df.head()"
   ]
  },
  {
   "cell_type": "code",
   "execution_count": 31,
   "metadata": {},
   "outputs": [
    {
     "data": {
      "text/plain": [
       "(1684600, 2)"
      ]
     },
     "execution_count": 31,
     "metadata": {},
     "output_type": "execute_result"
    }
   ],
   "source": [
    "ipv4_new_df.shape"
   ]
  },
  {
   "cell_type": "code",
   "execution_count": 32,
   "metadata": {},
   "outputs": [
    {
     "data": {
      "text/plain": [
       "True     0.897604\n",
       "False    0.102396\n",
       "Name: is_anonymous_proxy, dtype: float64"
      ]
     },
     "execution_count": 32,
     "metadata": {},
     "output_type": "execute_result"
    }
   ],
   "source": [
    "# Checking target variable classes\n",
    "ipv4_new_df[\"is_anonymous_proxy\"].value_counts(normalize=True)"
   ]
  },
  {
   "cell_type": "markdown",
   "metadata": {},
   "source": [
    "7. Downsample/re-sample dataset"
   ]
  },
  {
   "cell_type": "code",
   "execution_count": 33,
   "metadata": {},
   "outputs": [],
   "source": [
    "# Getting rows that are equal to True and rows that are equal to Flase\n",
    "ipv4_True = ipv4_new_df.loc[ipv4_new_df[\"is_anonymous_proxy\"] == \"True\"]\n",
    "ipv4_False = ipv4_new_df.loc[ipv4_new_df[\"is_anonymous_proxy\"] == \"False\"]"
   ]
  },
  {
   "cell_type": "code",
   "execution_count": 34,
   "metadata": {},
   "outputs": [],
   "source": [
    "# Randomly selecting 100_000 rows from each dataframe of True and False\n",
    "ipv4_random_true = ipv4_True.sample(n=10_000, random_state=1)\n",
    "ipv4_random_false = ipv4_False.sample(n=10_000, random_state=1)"
   ]
  },
  {
   "cell_type": "code",
   "execution_count": 35,
   "metadata": {},
   "outputs": [],
   "source": [
    "# Combining True and False datasets\n",
    "ipv4_final_df = pd.concat(objs=[ipv4_random_false, ipv4_random_true], join=\"inner\", axis=0, ignore_index=True)"
   ]
  },
  {
   "cell_type": "code",
   "execution_count": 36,
   "metadata": {},
   "outputs": [
    {
     "data": {
      "text/plain": [
       "0"
      ]
     },
     "execution_count": 36,
     "metadata": {},
     "output_type": "execute_result"
    }
   ],
   "source": [
    "ipv4_final_df.duplicated().sum()"
   ]
  },
  {
   "cell_type": "markdown",
   "metadata": {},
   "source": [
    "8. Removing decimal points and creating one number"
   ]
  },
  {
   "cell_type": "code",
   "execution_count": 37,
   "metadata": {},
   "outputs": [],
   "source": [
    "# Replacing the period with an empty string to combine into one number\n",
    "ipv4_final_df[\"IP_Networks\"] = ipv4_final_df[\"IP_Networks\"].apply(lambda x: x.replace(\".\", \"\"))"
   ]
  },
  {
   "cell_type": "code",
   "execution_count": 38,
   "metadata": {},
   "outputs": [
    {
     "data": {
      "text/html": [
       "<div>\n",
       "<style scoped>\n",
       "    .dataframe tbody tr th:only-of-type {\n",
       "        vertical-align: middle;\n",
       "    }\n",
       "\n",
       "    .dataframe tbody tr th {\n",
       "        vertical-align: top;\n",
       "    }\n",
       "\n",
       "    .dataframe thead th {\n",
       "        text-align: right;\n",
       "    }\n",
       "</style>\n",
       "<table border=\"1\" class=\"dataframe\">\n",
       "  <thead>\n",
       "    <tr style=\"text-align: right;\">\n",
       "      <th></th>\n",
       "      <th>IP_Networks</th>\n",
       "      <th>is_anonymous_proxy</th>\n",
       "    </tr>\n",
       "  </thead>\n",
       "  <tbody>\n",
       "    <tr>\n",
       "      <th>0</th>\n",
       "      <td>90361800</td>\n",
       "      <td>False</td>\n",
       "    </tr>\n",
       "    <tr>\n",
       "      <th>1</th>\n",
       "      <td>2133887160</td>\n",
       "      <td>False</td>\n",
       "    </tr>\n",
       "    <tr>\n",
       "      <th>2</th>\n",
       "      <td>41209640</td>\n",
       "      <td>False</td>\n",
       "    </tr>\n",
       "    <tr>\n",
       "      <th>3</th>\n",
       "      <td>11981247128</td>\n",
       "      <td>False</td>\n",
       "    </tr>\n",
       "    <tr>\n",
       "      <th>4</th>\n",
       "      <td>19412020</td>\n",
       "      <td>False</td>\n",
       "    </tr>\n",
       "  </tbody>\n",
       "</table>\n",
       "</div>"
      ],
      "text/plain": [
       "   IP_Networks is_anonymous_proxy\n",
       "0     90361800              False\n",
       "1   2133887160              False\n",
       "2     41209640              False\n",
       "3  11981247128              False\n",
       "4     19412020              False"
      ]
     },
     "execution_count": 38,
     "metadata": {},
     "output_type": "execute_result"
    }
   ],
   "source": [
    "ipv4_final_df.head()"
   ]
  },
  {
   "cell_type": "markdown",
   "metadata": {},
   "source": [
    "10. Creating predictor and target variables and turning it into a numpy array"
   ]
  },
  {
   "cell_type": "code",
   "execution_count": 49,
   "metadata": {},
   "outputs": [],
   "source": [
    "# Independent and Dependent Variable\n",
    "X = ipv4_final_df[[\"IP_Networks\"]]\n",
    "y = ipv4_final_df[[\"is_anonymous_proxy\"]]"
   ]
  },
  {
   "cell_type": "code",
   "execution_count": 50,
   "metadata": {},
   "outputs": [],
   "source": [
    "# Turning X and y into numpy arrays\n",
    "# X = X.to_numpy()\n",
    "# y = y.to_numpy()"
   ]
  },
  {
   "cell_type": "markdown",
   "metadata": {},
   "source": [
    "11. Train, Test, and Validation Split"
   ]
  },
  {
   "cell_type": "code",
   "execution_count": 51,
   "metadata": {},
   "outputs": [],
   "source": [
    "# Train, test, and validation split on data\n",
    "X_train, X_test, y_train, y_test = train_test_split(X, y, test_size=0.2, random_state=1)\n",
    "\n",
    "# Creating validation split\n",
    "X_train, X_val, y_train, y_val = train_test_split(X_train, y_train, test_size=0.25, random_state=1)"
   ]
  },
  {
   "cell_type": "code",
   "execution_count": 52,
   "metadata": {},
   "outputs": [
    {
     "data": {
      "text/plain": [
       "((12000,), (4000,), (12000, 1), (4000, 1))"
      ]
     },
     "execution_count": 52,
     "metadata": {},
     "output_type": "execute_result"
    }
   ],
   "source": [
    "X_train.shape, X_test.shape, y_train.shape, y_test.shape"
   ]
  },
  {
   "cell_type": "code",
   "execution_count": 53,
   "metadata": {},
   "outputs": [
    {
     "data": {
      "text/plain": [
       "((4000,), (4000, 1))"
      ]
     },
     "execution_count": 53,
     "metadata": {},
     "output_type": "execute_result"
    }
   ],
   "source": [
    "X_val.shape, y_val.shape"
   ]
  },
  {
   "cell_type": "markdown",
   "metadata": {
    "id": "vrtJduZQAkj4"
   },
   "source": [
    "11. Encoding"
   ]
  },
  {
   "cell_type": "code",
   "execution_count": null,
   "metadata": {
    "id": "x6XU2dI8Akj4"
   },
   "outputs": [],
   "source": [
    "# Using LabelBinarizer for IP Addresses\n",
    "lb = LabelBinarizer()  # Instantiating class\n",
    "lb_ip = LabelBinarizer()"
   ]
  },
  {
   "cell_type": "code",
   "execution_count": null,
   "metadata": {
    "id": "owc1P3rcAkj5"
   },
   "outputs": [],
   "source": [
    "# Encoding dependent variable\n",
    "y_train = lb.fit_transform(y_train)\n",
    "y_test = lb.fit_transform(y_test)\n",
    "y_val = lb.fit_transform(y_val)"
   ]
  },
  {
   "cell_type": "markdown",
   "metadata": {
    "id": "SZz7zdWfAkj5"
   },
   "source": [
    "NLP"
   ]
  },
  {
   "cell_type": "code",
   "execution_count": null,
   "metadata": {
    "id": "C6cfmi3UAkj5"
   },
   "outputs": [],
   "source": [
    "# Using NLP\n",
    "# X_train = lb_ip.fit_transform(X_train)\n",
    "# X_test = lb_ip.fit_transform(X_test)\n",
    "# X_val = lb_ip.fit_transform(X_val)\n",
    "\n",
    "# Changing Dataframe into arrays\n",
    "X_train = X_train.apply(lambda x: np.array(x))  # Changing list into an array of numbers\n",
    "X_test = X_test.apply(lambda x: np.array(x))\n",
    "X_val = X_val.apply(lambda x: np.array(x))"
   ]
  },
  {
   "cell_type": "code",
   "execution_count": null,
   "metadata": {
    "id": "YrHxxlkHAkj5",
    "outputId": "a09842b9-ff57-4c16-d08a-434188245980"
   },
   "outputs": [
    {
     "data": {
      "text/plain": [
       "(12000, 11997)"
      ]
     },
     "execution_count": 46,
     "metadata": {
      "tags": []
     },
     "output_type": "execute_result"
    }
   ],
   "source": [
    "X_train.shape"
   ]
  }
 ],
 "metadata": {
  "kernelspec": {
   "display_name": "python3-tensorflow",
   "language": "python",
   "name": "python3-tensorflow"
  },
  "language_info": {
   "codemirror_mode": {
    "name": "ipython",
    "version": 3
   },
   "file_extension": ".py",
   "mimetype": "text/x-python",
   "name": "python",
   "nbconvert_exporter": "python",
   "pygments_lexer": "ipython3",
   "version": "3.7.9"
  }
 },
 "nbformat": 4,
 "nbformat_minor": 4
}
